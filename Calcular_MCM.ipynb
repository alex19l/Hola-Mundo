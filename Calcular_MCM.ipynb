{
  "nbformat": 4,
  "nbformat_minor": 0,
  "metadata": {
    "colab": {
      "provenance": [],
      "authorship_tag": "ABX9TyNsyQnoccdsZyKNmq9Z0xEr",
      "include_colab_link": true
    },
    "kernelspec": {
      "name": "python3",
      "display_name": "Python 3"
    },
    "language_info": {
      "name": "python"
    }
  },
  "cells": [
    {
      "cell_type": "markdown",
      "metadata": {
        "id": "view-in-github",
        "colab_type": "text"
      },
      "source": [
        "<a href=\"https://colab.research.google.com/github/alex19l/Hola-Mundo/blob/main/Calcular_MCM.ipynb\" target=\"_parent\"><img src=\"https://colab.research.google.com/assets/colab-badge.svg\" alt=\"Open In Colab\"/></a>"
      ]
    },
    {
      "cell_type": "markdown",
      "source": [
        "# **La siguiente función nos ayuda a determinar el Mínimo.**"
      ],
      "metadata": {
        "id": "a25z-BJd7Aqq"
      }
    },
    {
      "cell_type": "code",
      "execution_count": null,
      "metadata": {
        "id": "YOlUDBwk6XW1"
      },
      "outputs": [],
      "source": [
        "def sacar_minimo(*args):\n",
        "    return min(args)\n",
        "\n",
        "minimo = sacar_minimo(10, 6, 29, 50, 100)\n",
        "print(f\"minimo: {minimo}\")"
      ]
    }
  ]
}