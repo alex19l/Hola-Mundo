{
  "nbformat": 4,
  "nbformat_minor": 0,
  "metadata": {
    "colab": {
      "provenance": [],
      "authorship_tag": "ABX9TyO1DaV9VtjpARHntuXeaM6a",
      "include_colab_link": true
    },
    "kernelspec": {
      "name": "python3",
      "display_name": "Python 3"
    },
    "language_info": {
      "name": "python"
    }
  },
  "cells": [
    {
      "cell_type": "markdown",
      "metadata": {
        "id": "view-in-github",
        "colab_type": "text"
      },
      "source": [
        "<a href=\"https://colab.research.google.com/github/alex19l/Hola-Mundo/blob/main/Formato_JSON.ipynb\" target=\"_parent\"><img src=\"https://colab.research.google.com/assets/colab-badge.svg\" alt=\"Open In Colab\"/></a>"
      ]
    },
    {
      "cell_type": "markdown",
      "source": [
        "# **FORMATO JSON**\n",
        "\n"
      ],
      "metadata": {
        "id": "rNMnHBXc5Kns"
      }
    },
    {
      "cell_type": "markdown",
      "source": [
        "Este es un ejemplo del Formato JSON. Como podemos ver el codigo es una lista de varios deportes con su numero de jugadores y con el pais de origen. Este formato nos ayuda a crear listas cuando estas contienen muchos detalles."
      ],
      "metadata": {
        "id": "mMcwgjvZ37Vt"
      }
    },
    {
      "cell_type": "code",
      "source": [
        "# Formato JSON.\n",
        "\n",
        "import json\n",
        "\n",
        "# Definimos un diccionario con una lista de deportes\n",
        "deportes = {\n",
        "    \"deportes\": [\n",
        "        {\"nombre\": \"Fútbol\", \"jugadores\": 11, \"origen\": \"Inglaterra\"},\n",
        "        {\"nombre\": \"Baloncesto\", \"jugadores\": 5, \"origen\": \"Estados Unidos\"},\n",
        "        {\"nombre\": \"Béisbol\", \"jugadores\": 9, \"origen\": \"Estados Unidos\"},\n",
        "        {\"nombre\": \"Voleibol\", \"jugadores\": 6, \"origen\": \"Estados Unidos\"},\n",
        "        {\"nombre\": \"Tenis\", \"jugadores\": 1, \"origen\": \"Francia\"}\n",
        "    ]\n",
        "}\n",
        "\n",
        "# Convertimos el diccionario a una cadena JSON\n",
        "deportes_json = json.dumps(deportes, indent = 4, ensure_ascii = False)\n",
        "\n",
        "# Imprimimos la cadena JSON\n",
        "print(deportes_json)"
      ],
      "metadata": {
        "id": "5uDCT7VS3EeC"
      },
      "execution_count": null,
      "outputs": []
    },
    {
      "cell_type": "code",
      "source": [],
      "metadata": {
        "id": "khU5o6vW47Uj"
      },
      "execution_count": null,
      "outputs": []
    }
  ]
}